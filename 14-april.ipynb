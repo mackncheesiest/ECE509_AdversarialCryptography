{
 "cells": [
  {
   "cell_type": "code",
   "execution_count": 1,
   "metadata": {},
   "outputs": [],
   "source": [
    "import tensorflow as tf\n",
    "\n",
    "name = 'alice'\n",
    "in_length = 8  # mesage of length 4, so expect output of length 4\n",
    "conv_params = [\n",
    "    [[4, 1, 2], 1], \n",
    "    [[2, 2, 4], 2], \n",
    "    [[1, 4, 4], 1], \n",
    "    [[1, 4, 1], 1]\n",
    "]"
   ]
  },
  {
   "cell_type": "code",
   "execution_count": 2,
   "metadata": {},
   "outputs": [],
   "source": [
    "class Net:\n",
    "    def __init__(self, name, in_length, conv_params):\n",
    "        self.name = name  # a string\n",
    "        self.conv_params = conv_params  # format: [filter_shape, stride]\n",
    "        self.in_length = in_length\n",
    "        self.fc_weights = tf.get_variable(\n",
    "            name=self.name + '_fc_weights', shape=[in_length, in_length],\n",
    "            initializer=tf.contrib.layers.xavier_initializer()\n",
    "        )  # do we want to include biases? others don't\n",
    "        self.conv_weights = [tf.get_variable(\n",
    "            self.name + 'conv_weights'+str(conv_params.index(param)),\n",
    "            shape=param[0], initializer=tf.contrib.layers.xavier_initializer()\n",
    "        )\n",
    "                             for param in self.conv_params]\n",
    "\n",
    "    def fc_layer(self, in_tensor):\n",
    "        # input: a tensor.\n",
    "        # if we generate inputs as lists of binary\n",
    "        # digits like [1,0,1,1,...], then process\n",
    "        # as tf.Variable(binary_message, dtype=tf.float32)\n",
    "\n",
    "        # in_tensor is one of\n",
    "        #     plaintext + key for alice\n",
    "        #     ciphertext + key for bob\n",
    "        #     ciphertext for eve\n",
    "\n",
    "        in_tensor = tf.expand_dims(in_tensor, 1)\n",
    "        return tf.nn.sigmoid(tf.matmul(self.fc_weights, in_tensor))\n",
    "\n",
    "    def conv_layer(self, in_tensor):\n",
    "        # input: a tensor of shape [in_length, 1]\n",
    "        # conv1d needs two 3-dimensional tensors as as input\n",
    "        out_tensor = tf.expand_dims(in_tensor, 0)\n",
    "\n",
    "        # for all but the last layers we use relu\n",
    "        for weights in self.conv_weights[:-1]:\n",
    "            stride = self.conv_params[self.conv_weights.index(weights)][1]\n",
    "            # dictionary would be nicer\n",
    "            out_tensor = tf.nn.relu(\n",
    "                tf.nn.conv1d(out_tensor, weights, stride, padding='SAME')\n",
    "            )  # if problems later, maybe I should have used placeholders?\n",
    "\n",
    "        # for the last layer use a tanh\n",
    "        weights = self.conv_weights[-1]\n",
    "        stride = self.conv_params[self.conv_weights.index(weights)][1]\n",
    "        out_tensor = tf.nn.tanh(\n",
    "           tf.nn.conv1d(out_tensor, self.conv_weights[-1], stride, padding='SAME')\n",
    "        )  # if problems later, maybe I should have used placeholders?\n",
    "\n",
    "        out_tensor = tf.squeeze(out_tensor)\n",
    "\n",
    "        # now round to 0's and 1's\n",
    "        # warning: was getting -0.'s instead of 0's. prob ok but...\n",
    "        out_tensor = tf.ceil(out_tensor)\n",
    "\n",
    "        return out_tensor"
   ]
  },
  {
   "cell_type": "code",
   "execution_count": 3,
   "metadata": {},
   "outputs": [],
   "source": [
    "A = Net(name, in_length, conv_params)\n",
    "sess = tf.Session()"
   ]
  },
  {
   "cell_type": "code",
   "execution_count": 4,
   "metadata": {},
   "outputs": [],
   "source": [
    "in_tensor = [1,0,1,0,1,0,1,0]\n",
    "in_tensor = tf.Variable(in_tensor, dtype=tf.float32)\n",
    "sess.run(tf.global_variables_initializer())"
   ]
  },
  {
   "cell_type": "code",
   "execution_count": 5,
   "metadata": {},
   "outputs": [
    {
     "data": {
      "text/plain": [
       "array([[ 0.28269532],\n",
       "       [ 0.29698732],\n",
       "       [ 0.44027615],\n",
       "       [ 0.46602607],\n",
       "       [ 0.63252819],\n",
       "       [ 0.13752498],\n",
       "       [ 0.3649019 ],\n",
       "       [ 0.53457594]], dtype=float32)"
      ]
     },
     "execution_count": 5,
     "metadata": {},
     "output_type": "execute_result"
    }
   ],
   "source": [
    "fc_output = A.fc_layer(in_tensor)\n",
    "sess.run(fc_output)"
   ]
  },
  {
   "cell_type": "code",
   "execution_count": 7,
   "metadata": {},
   "outputs": [
    {
     "data": {
      "text/plain": [
       "array([-0.,  1.,  1.,  1.], dtype=float32)"
      ]
     },
     "execution_count": 7,
     "metadata": {},
     "output_type": "execute_result"
    }
   ],
   "source": [
    "conv_output = A.conv_layer(fc_output)\n",
    "sess.run(conv_output)"
   ]
  }
 ],
 "metadata": {
  "kernelspec": {
   "display_name": "Python 3",
   "language": "python",
   "name": "python3"
  },
  "language_info": {
   "codemirror_mode": {
    "name": "ipython",
    "version": 3
   },
   "file_extension": ".py",
   "mimetype": "text/x-python",
   "name": "python",
   "nbconvert_exporter": "python",
   "pygments_lexer": "ipython3",
   "version": "3.6.0"
  }
 },
 "nbformat": 4,
 "nbformat_minor": 2
}
